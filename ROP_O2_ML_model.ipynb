{
 "cells": [
  {
   "cell_type": "markdown",
   "id": "b29b997c",
   "metadata": {},
   "source": [
    "# O2 ROP Machine Learning Models"
   ]
  },
  {
   "cell_type": "markdown",
   "id": "c6cb9078",
   "metadata": {},
   "source": [
    "## Introduction"
   ]
  },
  {
   "cell_type": "markdown",
   "id": "7d21f2a7",
   "metadata": {},
   "source": [
    "This notebook focuses on developing machine learning models for O2 ROP data. The following steps are covered:\n",
    "\n",
    "1. Data import and processing\n",
    "2. Feature selection\n",
    "3. Model development and validation"
   ]
  },
  {
   "cell_type": "markdown",
   "id": "1a5886af",
   "metadata": {},
   "source": [
    "## Imports"
   ]
  },
  {
   "cell_type": "code",
   "execution_count": null,
   "id": "6b91f896-41f0-460a-b860-c11f15a697f1",
   "metadata": {},
   "outputs": [],
   "source": [
    "import numpy as np\n",
    "import pandas as pd\n",
    "import matplotlib.pyplot as plt\n",
    "import seaborn as sns\n",
    "from sklearn.ensemble import RandomForestClassifier\n",
    "from sklearn.model_selection import KFold, StratifiedKFold, cross_val_score\n",
    "from sklearn import linear_model, tree, ensemble\n",
    "from sklearn.metrics import roc_auc_score, make_scorer, precision_score, recall_score, f1_score\n",
    "from sklearn.svm import SVC\n",
    "\n",
    "# Disable chained assignments\n",
    "pd.options.mode.chained_assignment = None \n",
    "\n",
    "# Suppress FutureWarnings\n",
    "import warnings\n",
    "warnings.simplefilter(action='ignore', category=FutureWarning)\n",
    "\n",
    "# Scoring metrics\n",
    "ROC_scorer = make_scorer(roc_auc_score)\n",
    "F1_scorer = make_scorer(f1_score)\n",
    "Precision_scorer = make_scorer(precision_score)\n",
    "Recall_scorer = make_scorer(recall_score)"
   ]
  },
  {
   "cell_type": "markdown",
   "id": "dc9984e9",
   "metadata": {},
   "source": [
    "## Data Import and Processing"
   ]
  },
  {
   "cell_type": "code",
   "execution_count": null,
   "id": "0fb3634d-b20f-4634-b716-d373aa29540a",
   "metadata": {},
   "outputs": [],
   "source": [
    "# Input features with 4 variables\n",
    "X = ohsu_baby_df[['GA', 'Spo2_Hyper_Mean', 'fio2_cov_Mean', 'fio2_Mean']].to_numpy()\n",
    "# Input with gestational age alone\n",
    "X_GA = ohsu_baby_df[['GA']].to_numpy()\n",
    "# Output feature\n",
    "y = ohsu_baby_df[\"binary_ROP\"].to_numpy()\n",
    "\n",
    "# Normalize the features\n",
    "scaler = StandardScaler()"
   ]
  },
  {
   "cell_type": "markdown",
   "id": "f62b6f6f",
   "metadata": {},
   "source": [
    "## Feature Selection"
   ]
  },
  {
   "cell_type": "code",
   "execution_count": null,
   "id": "a3a8ee4d-d6c9-458a-8a0e-a75fbb5682d4",
   "metadata": {},
   "outputs": [],
   "source": [
    "import matplotlib.pyplot as plt\n",
    "from sklearn.svm import SVC\n",
    "from sklearn.model_selection import StratifiedKFold\n",
    "from sklearn.feature_selection import RFECV\n",
    "from sklearn.datasets import make_classification\n",
    "\n",
    "X = ohsu_baby[['BW', 'GA', 'Gender', 'Spo2_Mean', 'Spo2_cov_Mean', 'Spo2_Hyper_Mean', 'fio2_cov_Mean', 'fio2_Mean',  'cumDaily_fio2']]\n",
    "y = ohsu_baby[\"binary_ROP\"].to_numpy()\n",
    "\n",
    "svm = SVC(gamma='scale', class_weight='balanced', kernel ='linear', probability=True, random_state=42)\n",
    "rf = RandomForestClassifier(n_estimators = 100, max_depth = 4, min_samples_split=5, class_weight='balanced_subsample',\n",
    "                           min_samples_leaf=3, max_features='sqrt', random_state=42)\n",
    "\n",
    "# The \"accuracy\" scoring shows the proportion of correct classifications\n",
    "\n",
    "min_features_to_select = 1  # Minimum number of features to consider\n",
    "rfecv = RFECV(\n",
    "    estimator=rf,\n",
    "    step=1,\n",
    "    cv=StratifiedKFold(5),\n",
    "    scoring=\"roc_auc\",\n",
    "    min_features_to_select=1,\n",
    ")\n",
    "rfecv.fit(X, y)\n",
    "\n",
    "print(\"Optimal number of features : %d\" % rfecv.n_features_)\n",
    "\n",
    "# Plot number of features VS. cross-validation scores\n",
    "plt.figure()\n",
    "plt.xlabel(\"Number of features selected\")\n",
    "plt.ylabel(\"Cross validation score (accuracy)\")\n",
    "plt.plot(\n",
    "    range(min_features_to_select, len(rfecv.grid_scores_) + min_features_to_select),\n",
    "    rfecv.grid_scores_,\n",
    ")\n",
    "plt.show()\n",
    "\n",
    "TF_list = rfecv.support_\n",
    "feature_list =  rfecv.feature_names_in_\n",
    "\n",
    "select_features = [x for x, y in zip(feature_list, TF_list) if y == bool('True')]\n",
    "len(select_features)\n",
    "\n",
    "print(select_features)"
   ]
  },
  {
   "cell_type": "markdown",
   "id": "f6ad6ce5",
   "metadata": {},
   "source": [
    "## Model Development and Validation"
   ]
  },
  {
   "cell_type": "markdown",
   "id": "f6b43bbe",
   "metadata": {},
   "source": [
    "### Data Splitting for Cross-Validation"
   ]
  },
  {
   "cell_type": "code",
   "execution_count": null,
   "id": "ec88444c-bbd8-4d2f-823f-53fe0f565028",
   "metadata": {},
   "outputs": [],
   "source": [
    "# Lets split the data into 5 folds.  \n",
    "# We will use this 'kf'(KFold splitting stratergy) object as input to cross_val_score() method\n",
    "kf =KFold(n_splits=5, shuffle=True, random_state=42)\n",
    "\n",
    "cnt = 1\n",
    "# split()  method generate indices to split data into training and test set.\n",
    "for train_index, test_index in kf.split(X, y):\n",
    "    print(f'Fold:{cnt}, Train set: {len(train_index)}, Test set:{len(test_index)}')\n",
    "    cnt += 1"
   ]
  },
  {
   "cell_type": "markdown",
   "id": "e1e24514",
   "metadata": {},
   "source": [
    "### Random Forest Model"
   ]
  },
  {
   "cell_type": "code",
   "execution_count": null,
   "id": "fc66367b-22eb-4153-a0c6-1e02b19015fe",
   "metadata": {},
   "outputs": [],
   "source": [
    "#Random forest\n",
    "score = cross_val_score(RandomForestClassifier(n_estimators = 100, max_depth = 4, min_samples_split=5, class_weight='balanced_subsample',\n",
    "                           min_samples_leaf=3, max_features='sqrt', random_state=42) , X, y, cv=kf, scoring=\"roc_auc\")\n",
    "print(f'Scores for each fold: {score}')\n",
    "print(f'Scores for average score: {np.mean(score)}')"
   ]
  },
  {
   "cell_type": "markdown",
   "id": "fe4095fe",
   "metadata": {},
   "source": [
    "### Support Vector Machine (SVM) Model"
   ]
  },
  {
   "cell_type": "code",
   "execution_count": null,
   "id": "a992d1cf-de46-46db-9a1f-2fb7136afd89",
   "metadata": {},
   "outputs": [],
   "source": [
    "#SVM\n",
    "score2 = cross_val_score(SVC(gamma='scale', class_weight='balanced', kernel ='linear', probability=True, random_state=42) , X, y, cv=kf, scoring=\"roc_auc\")\n",
    "\n",
    "print(f'Scores for each fold: {score2}')\n",
    "print(f'Scores for average score: {np.mean(score2)}')\n"
   ]
  },
  {
   "cell_type": "markdown",
   "id": "97bb2fd4",
   "metadata": {},
   "source": [
    "## Visualizing 5-Fold Cross-Validation Results"
   ]
  },
  {
   "cell_type": "code",
   "execution_count": null,
   "id": "06662d55-af09-429b-981d-4721ad7bc19e",
   "metadata": {},
   "outputs": [],
   "source": [
    "import matplotlib.pyplot as plt\n",
    "from sklearn.metrics import roc_curve, auc\n",
    "from sklearn.model_selection import StratifiedKFold\n",
    "\n",
    "\n",
    "# Input features with 4 variables\n",
    "X = ohsu_baby_df[['GA', 'Spo2_Hyper_Mean', 'fio2_cov_Mean', 'fio2_Mean']].to_numpy()\n",
    "# Input with gestational age alone\n",
    "X_GA = ohsu_baby_df[['GA']].to_numpy()\n",
    "# Output feature\n",
    "y = ohsu_baby_df[\"binary_ROP\"].to_numpy()\n",
    "\n",
    "rf_model = RandomForestClassifier(n_estimators = 100, max_depth = 4, min_samples_split=3, class_weight='balanced',\n",
    "                           min_samples_leaf=5, max_features='sqrt', random_state=42)\n",
    "svm_model = SVC(gamma='scale', class_weight='balanced', kernel ='linear', probability=True, random_state=42)\n",
    "\n",
    "\n",
    "# Define the models\n",
    "models = [\n",
    "    ('Random Forest', rf_model),\n",
    "    ('SVM', svm_model)\n",
    "]\n",
    "\n",
    "# Set up the figure and axes\n",
    "fig, ax = plt.subplots(figsize=(8, 6))\n",
    "\n",
    "# Perform 5-fold cross-validation\n",
    "cv = StratifiedKFold(n_splits=5)\n",
    "for name, model in models:\n",
    "    tprs = []\n",
    "    aucs = []\n",
    "    mean_fpr = np.linspace(0, 1, 100)\n",
    "\n",
    "    for train, test in cv.split(X, y):\n",
    "        model.fit(X.iloc[train], y.iloc[train])\n",
    "        probas_ = model.predict_proba(X.iloc[test])[:, 1]\n",
    "        fpr, tpr, thresholds = roc_curve(y.iloc[test], probas_)\n",
    "        tprs.append(np.interp(mean_fpr, fpr, tpr))\n",
    "        tprs[-1][0] = 0.0\n",
    "        roc_auc = auc(fpr, tpr)\n",
    "        aucs.append(roc_auc)\n",
    "\n",
    "    # Plot the mean ROC curve\n",
    "    mean_tpr = np.mean(tprs, axis=0)\n",
    "    mean_auc = auc(mean_fpr, mean_tpr)\n",
    "    std_auc = np.std(aucs)\n",
    "    ax.plot(mean_fpr, mean_tpr, label=f'{name} (AUC = {mean_auc:.4f} +/- {std_auc:.4f})')\n",
    "\n",
    "# Plot the random line\n",
    "ax.plot([0, 1], [0, 1], linestyle='--', color='black')\n",
    "\n",
    "# Set the labels and title\n",
    "ax.set_xlabel('False Positive Rate')\n",
    "ax.set_ylabel('True Positive Rate')\n",
    "ax.set_title('Receiver Operating Characteristic')\n",
    "\n",
    "# Add the legend\n",
    "ax.legend(loc='lower right')\n",
    "plt.show()\n"
   ]
  }
 ],
 "metadata": {
  "kernelspec": {
   "display_name": "Python 3 (ipykernel)",
   "language": "python",
   "name": "python3"
  },
  "language_info": {
   "codemirror_mode": {
    "name": "ipython",
    "version": 3
   },
   "file_extension": ".py",
   "mimetype": "text/x-python",
   "name": "python",
   "nbconvert_exporter": "python",
   "pygments_lexer": "ipython3",
   "version": "3.10.6"
  }
 },
 "nbformat": 4,
 "nbformat_minor": 5
}
